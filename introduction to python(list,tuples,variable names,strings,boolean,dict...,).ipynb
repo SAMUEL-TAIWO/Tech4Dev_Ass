{
 "cells": [
  {
   "cell_type": "markdown",
   "id": "9a2b0dc0",
   "metadata": {},
   "source": [
    "###### 100+2"
   ]
  },
  {
   "cell_type": "code",
   "execution_count": 1,
   "id": "aa30c4d2",
   "metadata": {},
   "outputs": [
    {
     "data": {
      "text/plain": [
       "50.0"
      ]
     },
     "execution_count": 1,
     "metadata": {},
     "output_type": "execute_result"
    }
   ],
   "source": [
    "#divide by 2#\n",
    "100/2"
   ]
  },
  {
   "cell_type": "code",
   "execution_count": 2,
   "id": "a9acedbb",
   "metadata": {},
   "outputs": [
    {
     "data": {
      "text/plain": [
       "10.333333333333334"
      ]
     },
     "execution_count": 2,
     "metadata": {},
     "output_type": "execute_result"
    }
   ],
   "source": [
    "10+1/3\n"
   ]
  },
  {
   "cell_type": "markdown",
   "id": "5b06e5c6",
   "metadata": {},
   "source": [
    "Data types"
   ]
  },
  {
   "cell_type": "code",
   "execution_count": 3,
   "id": "4359ad00",
   "metadata": {},
   "outputs": [
    {
     "ename": "SyntaxError",
     "evalue": "invalid syntax (4198222533.py, line 4)",
     "output_type": "error",
     "traceback": [
      "\u001b[1;36m  Input \u001b[1;32mIn [3]\u001b[1;36m\u001b[0m\n\u001b[1;33m    list[]\u001b[0m\n\u001b[1;37m         ^\u001b[0m\n\u001b[1;31mSyntaxError\u001b[0m\u001b[1;31m:\u001b[0m invalid syntax\n"
     ]
    }
   ],
   "source": [
    "Numbers\n",
    "strings\n",
    "printing \n",
    "list[]\n",
    "dictionaries{}\n",
    "boolean\n",
    "tuples()\n",
    "set\n",
    "slicing\n",
    "variables -a reserved memory of a location of stored value, a container for storing value"
   ]
  },
  {
   "cell_type": "code",
   "execution_count": null,
   "id": "de73364b",
   "metadata": {},
   "outputs": [],
   "source": [
    "print(1+1) False"
   ]
  },
  {
   "cell_type": "code",
   "execution_count": null,
   "id": "8195aa7c",
   "metadata": {},
   "outputs": [],
   "source": [
    "\"bola\"+\"ola\""
   ]
  },
  {
   "cell_type": "code",
   "execution_count": null,
   "id": "cf4cf485",
   "metadata": {},
   "outputs": [],
   "source": [
    "print(\"hello world\")"
   ]
  },
  {
   "cell_type": "code",
   "execution_count": null,
   "id": "d72b7a74",
   "metadata": {},
   "outputs": [],
   "source": [
    "(\"hello world\")\n"
   ]
  },
  {
   "cell_type": "code",
   "execution_count": null,
   "id": "002f60eb",
   "metadata": {},
   "outputs": [],
   "source": [
    "\"hello world\""
   ]
  },
  {
   "cell_type": "code",
   "execution_count": null,
   "id": "be31530e",
   "metadata": {},
   "outputs": [],
   "source": [
    "print(\"my name is samuel taiwo\")"
   ]
  },
  {
   "cell_type": "code",
   "execution_count": null,
   "id": "af18ea0b",
   "metadata": {},
   "outputs": [],
   "source": [
    "200/3"
   ]
  },
  {
   "cell_type": "code",
   "execution_count": null,
   "id": "3d2b107e",
   "metadata": {},
   "outputs": [],
   "source": [
    "\"sola + john\""
   ]
  },
  {
   "cell_type": "code",
   "execution_count": null,
   "id": "04022760",
   "metadata": {},
   "outputs": [],
   "source": [
    "\"shola\"+\" john\""
   ]
  },
  {
   "cell_type": "markdown",
   "id": "d4361a44",
   "metadata": {},
   "source": [
    "# strings"
   ]
  },
  {
   "cell_type": "code",
   "execution_count": null,
   "id": "ad46a5a0",
   "metadata": {},
   "outputs": [],
   "source": [
    "name = \" Bola johnson\""
   ]
  },
  {
   "cell_type": "code",
   "execution_count": null,
   "id": "5f3de1ff",
   "metadata": {},
   "outputs": [],
   "source": [
    "name"
   ]
  },
  {
   "cell_type": "code",
   "execution_count": null,
   "id": "5fa2f082",
   "metadata": {},
   "outputs": [],
   "source": [
    "animal = \"Dog\""
   ]
  },
  {
   "cell_type": "code",
   "execution_count": null,
   "id": "6cd162a2",
   "metadata": {},
   "outputs": [],
   "source": [
    "animal #The name here can be called the variable "
   ]
  },
  {
   "cell_type": "markdown",
   "id": "42d98440",
   "metadata": {},
   "source": [
    "# list"
   ]
  },
  {
   "cell_type": "code",
   "execution_count": null,
   "id": "d55a8081",
   "metadata": {},
   "outputs": [],
   "source": [
    "fruit =[\"apple\",\"mango\",\"pawpaw\",\"lemon\"]\n",
    "fruit"
   ]
  },
  {
   "cell_type": "code",
   "execution_count": null,
   "id": "0caeb43f",
   "metadata": {},
   "outputs": [],
   "source": [
    "fruit"
   ]
  },
  {
   "cell_type": "markdown",
   "id": "ea64edd1",
   "metadata": {},
   "source": [
    "# slicer"
   ]
  },
  {
   "cell_type": "code",
   "execution_count": null,
   "id": "d7576fab",
   "metadata": {},
   "outputs": [],
   "source": [
    "fruit"
   ]
  },
  {
   "cell_type": "code",
   "execution_count": null,
   "id": "22d10faa",
   "metadata": {},
   "outputs": [],
   "source": [
    "fruit[1:]"
   ]
  },
  {
   "cell_type": "code",
   "execution_count": null,
   "id": "3dca09e7",
   "metadata": {},
   "outputs": [],
   "source": [
    "fruit[:3]"
   ]
  },
  {
   "cell_type": "code",
   "execution_count": null,
   "id": "c7ab5fa0",
   "metadata": {},
   "outputs": [],
   "source": [
    "fruit[:2]"
   ]
  },
  {
   "cell_type": "code",
   "execution_count": null,
   "id": "54773b95",
   "metadata": {},
   "outputs": [],
   "source": [
    "fruit[2:]"
   ]
  },
  {
   "cell_type": "code",
   "execution_count": null,
   "id": "6a67e258",
   "metadata": {},
   "outputs": [],
   "source": [
    "fruit[0]"
   ]
  },
  {
   "cell_type": "code",
   "execution_count": null,
   "id": "1cce4573",
   "metadata": {},
   "outputs": [],
   "source": [
    "fruit[-0]"
   ]
  },
  {
   "cell_type": "code",
   "execution_count": null,
   "id": "84a7dde8",
   "metadata": {},
   "outputs": [],
   "source": [
    "fruit[-3]"
   ]
  },
  {
   "cell_type": "code",
   "execution_count": null,
   "id": "ae7dfa2b",
   "metadata": {},
   "outputs": [],
   "source": [
    "fruit[-1]"
   ]
  },
  {
   "cell_type": "code",
   "execution_count": null,
   "id": "1d7ebd24",
   "metadata": {},
   "outputs": [],
   "source": [
    "fruit[-4]"
   ]
  },
  {
   "cell_type": "code",
   "execution_count": null,
   "id": "bc059c2c",
   "metadata": {},
   "outputs": [],
   "source": [
    "fruit[1:2]"
   ]
  },
  {
   "cell_type": "code",
   "execution_count": null,
   "id": "954a1d8d",
   "metadata": {},
   "outputs": [],
   "source": [
    "England=[\"manchester\",\"oxford\",\"carlifonia\",\"italy\",\"canada\",\"united kindom\",\"Bradford\",\"Liverpool\",\"chesters\"]\n",
    "England"
   ]
  },
  {
   "cell_type": "code",
   "execution_count": null,
   "id": "9d12cf28",
   "metadata": {},
   "outputs": [],
   "source": [
    "England"
   ]
  },
  {
   "cell_type": "code",
   "execution_count": null,
   "id": "5924c01e",
   "metadata": {},
   "outputs": [],
   "source": [
    "England[-5]"
   ]
  },
  {
   "cell_type": "code",
   "execution_count": null,
   "id": "4bcdc9d4",
   "metadata": {},
   "outputs": [],
   "source": [
    "England[-6]"
   ]
  },
  {
   "cell_type": "code",
   "execution_count": null,
   "id": "ae50bcac",
   "metadata": {},
   "outputs": [],
   "source": [
    "England[0:3]"
   ]
  },
  {
   "cell_type": "code",
   "execution_count": null,
   "id": "b333521b",
   "metadata": {},
   "outputs": [],
   "source": [
    "England[0:6:3]"
   ]
  },
  {
   "cell_type": "code",
   "execution_count": null,
   "id": "ef15c13a",
   "metadata": {},
   "outputs": [],
   "source": [
    "selected_cities=[England [i] for i in [2,5,7]]\n",
    "print (selected_cities)"
   ]
  },
  {
   "cell_type": "code",
   "execution_count": null,
   "id": "aa504e09",
   "metadata": {},
   "outputs": [],
   "source": [
    "England[0:2]"
   ]
  },
  {
   "cell_type": "code",
   "execution_count": null,
   "id": "0f8adcf9",
   "metadata": {},
   "outputs": [],
   "source": [
    "England[7:8]"
   ]
  },
  {
   "cell_type": "code",
   "execution_count": null,
   "id": "e977ff9c",
   "metadata": {},
   "outputs": [],
   "source": [
    "England[2:7:2]"
   ]
  },
  {
   "cell_type": "code",
   "execution_count": null,
   "id": "7897ab0d",
   "metadata": {},
   "outputs": [],
   "source": [
    "England[0:2]+England[7:8]+England[2:7:2]"
   ]
  },
  {
   "cell_type": "code",
   "execution_count": null,
   "id": "b6187634",
   "metadata": {},
   "outputs": [],
   "source": [
    "x=England[0:2]\n",
    "y=England[7:8]\n",
    "z=England[2:7:2]\n",
    "x+y+z"
   ]
  },
  {
   "cell_type": "code",
   "execution_count": null,
   "id": "31b86f28",
   "metadata": {},
   "outputs": [],
   "source": [
    "print(x+y+z)"
   ]
  },
  {
   "cell_type": "code",
   "execution_count": null,
   "id": "33f8c824",
   "metadata": {},
   "outputs": [],
   "source": []
  },
  {
   "cell_type": "markdown",
   "id": "7919e01b",
   "metadata": {},
   "source": [
    "# BOOLEAN"
   ]
  },
  {
   "cell_type": "markdown",
   "id": "ce92d642",
   "metadata": {},
   "source": [
    " Boolean datatypes is built on python which represents 2 values(True or False)?"
   ]
  },
  {
   "cell_type": "code",
   "execution_count": null,
   "id": "deb1ad89",
   "metadata": {},
   "outputs": [],
   "source": [
    "#  =assignment sign(used to call variables)\n",
    "# == equals to sign"
   ]
  },
  {
   "cell_type": "code",
   "execution_count": null,
   "id": "f672532f",
   "metadata": {},
   "outputs": [],
   "source": [
    "10==9"
   ]
  },
  {
   "cell_type": "code",
   "execution_count": null,
   "id": "e2a893d9",
   "metadata": {},
   "outputs": [],
   "source": [
    "print(10==9)"
   ]
  },
  {
   "cell_type": "code",
   "execution_count": null,
   "id": "e74ba7be",
   "metadata": {},
   "outputs": [],
   "source": [
    "#print(if 2  is greater or equals to 200)\n",
    "print(10<=200)"
   ]
  },
  {
   "cell_type": "code",
   "execution_count": null,
   "id": "8807e74f",
   "metadata": {},
   "outputs": [],
   "source": [
    "print(12==12)"
   ]
  },
  {
   "cell_type": "markdown",
   "id": "c9775811",
   "metadata": {},
   "source": [
    "# Dictionary"
   ]
  },
  {
   "cell_type": "markdown",
   "id": "fa06c297",
   "metadata": {},
   "source": [
    "Adictionary is a built in data structure that stores a collection of a key and value pairs, meaning you can add and modify from it"
   ]
  },
  {
   "cell_type": "code",
   "execution_count": null,
   "id": "7ced4762",
   "metadata": {},
   "outputs": [],
   "source": [
    "d={\"key1\":\"items\",\"key2\":\"item2\",\"key3\":\"item3\"}\n",
    "d"
   ]
  },
  {
   "cell_type": "code",
   "execution_count": null,
   "id": "9a1acffa",
   "metadata": {},
   "outputs": [],
   "source": [
    "people={\"christianah\":\"lagos\",\"bolatito\":\"abuja\",\"Daniel\":\"iyin\"}\n",
    "people"
   ]
  },
  {
   "cell_type": "markdown",
   "id": "74d7d446",
   "metadata": {},
   "source": [
    "# updating a list"
   ]
  },
  {
   "cell_type": "code",
   "execution_count": null,
   "id": "94071979",
   "metadata": {},
   "outputs": [],
   "source": [
    "Avengers=[\"hulk\",\"iron-man\",\"captain\",5,[\"All\",\"simbi\"]]\n",
    "Avengers"
   ]
  },
  {
   "cell_type": "code",
   "execution_count": null,
   "id": "fd4c353f",
   "metadata": {},
   "outputs": [],
   "source": [
    "#update the 3rd element to \"captain american\"\n",
    "Avengers[2]=\"captain america\"\n",
    "Avengers"
   ]
  },
  {
   "cell_type": "markdown",
   "id": "de8af52e",
   "metadata": {},
   "source": [
    "# deleting values in list"
   ]
  },
  {
   "cell_type": "code",
   "execution_count": null,
   "id": "c14d4483",
   "metadata": {},
   "outputs": [],
   "source": [
    "lists=['hulk', 'iron-man', 'captain america', 5, ['All', 'simbi']]\n",
    "del lists[2]\n",
    "lists"
   ]
  },
  {
   "cell_type": "markdown",
   "id": "ea863821",
   "metadata": {},
   "source": [
    "# Addition of python list"
   ]
  },
  {
   "cell_type": "code",
   "execution_count": null,
   "id": "15fe8177",
   "metadata": {},
   "outputs": [],
   "source": [
    "Avengers1 = ['hulk', 'iron-man', 'captain america', 5]\n",
    "Avengers2= [\"sam\",\"vision\"]\n",
    "Sum_Avengers=Avengers1 + Avengers2\n",
    "Sum_Avengers"
   ]
  },
  {
   "cell_type": "code",
   "execution_count": null,
   "id": "2a8480c3",
   "metadata": {},
   "outputs": [],
   "source": [
    "del Sum_Avengers[0]\n",
    "Sum_Avengers"
   ]
  },
  {
   "cell_type": "code",
   "execution_count": null,
   "id": "54b3bb6a",
   "metadata": {},
   "outputs": [],
   "source": [
    "Sum_Avengers[0]"
   ]
  },
  {
   "cell_type": "code",
   "execution_count": null,
   "id": "56b6dc7c",
   "metadata": {},
   "outputs": [],
   "source": [
    "Sum_Avengers[2]"
   ]
  },
  {
   "cell_type": "code",
   "execution_count": null,
   "id": "3ad84fec",
   "metadata": {},
   "outputs": [],
   "source": [
    "Avengers"
   ]
  },
  {
   "cell_type": "code",
   "execution_count": null,
   "id": "78c7621a",
   "metadata": {},
   "outputs": [],
   "source": [
    "Avengers[3]=\"Daniel\"\n",
    "Avengers                "
   ]
  },
  {
   "cell_type": "code",
   "execution_count": null,
   "id": "9eeaf62c",
   "metadata": {},
   "outputs": [],
   "source": [
    "for i in \"Avengers\":\n",
    "    print(i)"
   ]
  },
  {
   "cell_type": "code",
   "execution_count": null,
   "id": "0d396ca2",
   "metadata": {},
   "outputs": [],
   "source": [
    "Avengers"
   ]
  },
  {
   "cell_type": "code",
   "execution_count": null,
   "id": "087423c1",
   "metadata": {},
   "outputs": [],
   "source": [
    "Avengers.append(\"isreal\")\n",
    "Avengers"
   ]
  },
  {
   "cell_type": "code",
   "execution_count": null,
   "id": "1de3f51d",
   "metadata": {
    "scrolled": true
   },
   "outputs": [],
   "source": [
    "Avengers"
   ]
  },
  {
   "cell_type": "code",
   "execution_count": null,
   "id": "3e7b1be8",
   "metadata": {},
   "outputs": [],
   "source": [
    "#To get [all] inside the above list\n",
    "all_value = Avengers[-3][0]\n",
    "all_value"
   ]
  },
  {
   "cell_type": "code",
   "execution_count": null,
   "id": "d9e82f0e",
   "metadata": {},
   "outputs": [],
   "source": [
    "#To get  ['All', 'simbi'] inside the Avengers list we have:\n",
    "nested_list = Avengers[-3]\n",
    "nested_list"
   ]
  },
  {
   "cell_type": "markdown",
   "id": "0968de50",
   "metadata": {},
   "source": [
    "#### "
   ]
  },
  {
   "cell_type": "markdown",
   "id": "d9b712c1",
   "metadata": {},
   "source": [
    "# Logical operator and or"
   ]
  },
  {
   "cell_type": "code",
   "execution_count": null,
   "id": "e93c64bf",
   "metadata": {},
   "outputs": [],
   "source": [
    "1<2 and 2>3 #and goes to check the two conditions "
   ]
  },
  {
   "cell_type": "code",
   "execution_count": null,
   "id": "7323a0ff",
   "metadata": {},
   "outputs": [],
   "source": [
    "(1==2) or (2==2)#or only checks if one of the conditions are true and executes"
   ]
  },
  {
   "cell_type": "markdown",
   "id": "36090b89",
   "metadata": {},
   "source": [
    "# TUPLES"
   ]
  },
  {
   "cell_type": "markdown",
   "id": "d6dad905",
   "metadata": {},
   "source": [
    "Tuples are unmutable ,the values can't be changed"
   ]
  },
  {
   "cell_type": "markdown",
   "id": "564a102b",
   "metadata": {},
   "source": [
    "tup1=(0,1,2,3,4)\n",
    "\n",
    "tup2=(\"python\",\"geek\")\n"
   ]
  },
  {
   "cell_type": "markdown",
   "id": "386d5105",
   "metadata": {},
   "source": [
    "tup1=(0,1,2,3,4)\n",
    "\n",
    "tup2=(\"python\",\"geek\")\n",
    "new_tup= tup1+tup2\n",
    "new_tup"
   ]
  },
  {
   "cell_type": "code",
   "execution_count": null,
   "id": "82d4c525",
   "metadata": {},
   "outputs": [],
   "source": [
    "new_tup"
   ]
  },
  {
   "cell_type": "markdown",
   "id": "c57355b1",
   "metadata": {},
   "source": [
    "# check at least 20 method in list,tuples,dictionaries and give an example writing a python code"
   ]
  },
  {
   "cell_type": "code",
   "execution_count": null,
   "id": "cf6fb60e",
   "metadata": {},
   "outputs": [],
   "source": [
    "new_tup[6]"
   ]
  },
  {
   "cell_type": "code",
   "execution_count": null,
   "id": "71686516",
   "metadata": {},
   "outputs": [],
   "source": [
    "#write a python program to convert a list to tuple\n",
    "listx =[1,2,3,4,5]\n",
    "print(listx)"
   ]
  },
  {
   "cell_type": "code",
   "execution_count": null,
   "id": "6f3a633f",
   "metadata": {},
   "outputs": [],
   "source": [
    "tuplex=tuple(listx)\n",
    "print(tuplex)"
   ]
  },
  {
   "cell_type": "markdown",
   "id": "1020d29b",
   "metadata": {},
   "source": [
    "dic1={\"name\":\"tito\",\"animal\":\"monkey\",\"school\":\"futa\",\"phone\":\"tecno\"}\n",
    "dic2={\"home\":\"ado\",\"appliances\":\"kettle\",\"butter\":\"bama\"}\n",
    "dics= dic1.copy()\n",
    "dics.update(dic2)\n",
    "print(dics)"
   ]
  },
  {
   "cell_type": "code",
   "execution_count": null,
   "id": "6b045456",
   "metadata": {},
   "outputs": [],
   "source": [
    "#write a python script to merge two dictionary\n",
    "dic1={\"name\":\"tito\",\"animal\":\"monkey\",\"school\":\"futa\",\"phone\":\"tecno\"}\n",
    "dic2={\"home\":\"ado\",\"appliances\":\"kettle\",\"butter\":\"bama\"}\n",
    "dics= dic1.copy()\n",
    "dics.update(dic2)\n",
    "print(dics)"
   ]
  },
  {
   "cell_type": "code",
   "execution_count": null,
   "id": "1f40d180",
   "metadata": {},
   "outputs": [],
   "source": [
    "#add pink to this colour list \n",
    "color = [\"blue\",\"yellow\",\"red\" ,\"green\"]\n",
    "coloradd = color.append(\"pink\")\n",
    "color"
   ]
  },
  {
   "cell_type": "markdown",
   "id": "5cb8fedd",
   "metadata": {},
   "source": [
    "# check at least 20 method in list,tuples,dictionaries and give an example writing a python code\n",
    "solution"
   ]
  },
  {
   "cell_type": "code",
   "execution_count": 1,
   "id": "21b053d3",
   "metadata": {},
   "outputs": [
    {
     "name": "stdout",
     "output_type": "stream",
     "text": [
      "[1, 2, 3, 4, 0.5]\n"
     ]
    }
   ],
   "source": [
    "#list\n",
    "listt=[1,2,3,4]\n",
    "listt.append(0.5)\n",
    "print(listt)"
   ]
  },
  {
   "cell_type": "code",
   "execution_count": 2,
   "id": "16ca76fe",
   "metadata": {},
   "outputs": [
    {
     "name": "stdout",
     "output_type": "stream",
     "text": [
      "[1, 2, 3, [4, 5]]\n"
     ]
    }
   ],
   "source": [
    "my_list = [1, 2, 3]\n",
    "my_list.append([4,5])\n",
    "print(my_list)  \n"
   ]
  },
  {
   "cell_type": "code",
   "execution_count": 3,
   "id": "92e2d319",
   "metadata": {},
   "outputs": [
    {
     "data": {
      "text/plain": [
       "[1, 2, 4, 5, 7, 8]"
      ]
     },
     "execution_count": 3,
     "metadata": {},
     "output_type": "execute_result"
    }
   ],
   "source": [
    "my_list=[1,2,4,5]\n",
    "my_list.extend([7,8])\n",
    "my_list "
   ]
  },
  {
   "cell_type": "code",
   "execution_count": 4,
   "id": "aeb19eae",
   "metadata": {},
   "outputs": [
    {
     "data": {
      "text/plain": [
       "[1, 2, 4, 5, 5]"
      ]
     },
     "execution_count": 4,
     "metadata": {},
     "output_type": "execute_result"
    }
   ],
   "source": [
    "#it removes the first occurrence of value\n",
    "my_list=[1,5,2,4,5,5]\n",
    "my_list.remove(5)\n",
    "my_list "
   ]
  },
  {
   "cell_type": "code",
   "execution_count": 5,
   "id": "e47614d7",
   "metadata": {},
   "outputs": [
    {
     "data": {
      "text/plain": [
       "[1, 5, 2, 4, 5]"
      ]
     },
     "execution_count": 5,
     "metadata": {},
     "output_type": "execute_result"
    }
   ],
   "source": [
    "my_list=[1,5,2,4,5,5]\n",
    "del my_list[5]\n",
    "my_list"
   ]
  },
  {
   "cell_type": "code",
   "execution_count": 6,
   "id": "a0c13e8e",
   "metadata": {},
   "outputs": [
    {
     "name": "stdout",
     "output_type": "stream",
     "text": [
      "1\n"
     ]
    }
   ],
   "source": [
    "#it returns the first occurence of value\n",
    "my_list=[1,2,3,5,4]\n",
    "ind=my_list.index(2)\n",
    "print(ind)"
   ]
  },
  {
   "cell_type": "code",
   "execution_count": 7,
   "id": "ba0a913a",
   "metadata": {},
   "outputs": [
    {
     "data": {
      "text/plain": [
       "[1, 2, 3, 5]"
      ]
     },
     "execution_count": 7,
     "metadata": {},
     "output_type": "execute_result"
    }
   ],
   "source": [
    "my_list = [1, 2, 3,5]\n",
    "my_list.index(5)\n",
    "my_list"
   ]
  },
  {
   "cell_type": "code",
   "execution_count": 8,
   "id": "093667dc",
   "metadata": {},
   "outputs": [
    {
     "name": "stdout",
     "output_type": "stream",
     "text": [
      "[1, 2, 3, 5] 5\n"
     ]
    }
   ],
   "source": [
    "#Removes and returns the element at the given index.\n",
    "my_list = [1, 2, 3,5,5]\n",
    "lisd = my_list.pop(3)\n",
    "print(my_list,lisd)"
   ]
  },
  {
   "cell_type": "code",
   "execution_count": 9,
   "id": "5dcd6c72",
   "metadata": {},
   "outputs": [
    {
     "name": "stdout",
     "output_type": "stream",
     "text": [
      "3\n"
     ]
    }
   ],
   "source": [
    "my_list = [1, 2, 3,5,5,5]\n",
    "lis=my_list.count(5)\n",
    "print(lis)"
   ]
  },
  {
   "cell_type": "code",
   "execution_count": 10,
   "id": "d8115397",
   "metadata": {},
   "outputs": [
    {
     "name": "stdout",
     "output_type": "stream",
     "text": [
      "6\n"
     ]
    }
   ],
   "source": [
    "my_list = [1, 2, 3,5,5,5]\n",
    "num=len(my_list)\n",
    "print(num)"
   ]
  },
  {
   "cell_type": "code",
   "execution_count": 11,
   "id": "5e389961",
   "metadata": {},
   "outputs": [],
   "source": [
    "dic_list={\"name\": \"Charlie\", \"age\": 35, \"city\": \"Chicago\"}\n",
    "dic_key = {\"school\":\"futa\"}\n",
    "dic_add = dic_list.copy()\n",
    "dic_add.update(dic_key)"
   ]
  },
  {
   "cell_type": "code",
   "execution_count": 12,
   "id": "90fd11f3",
   "metadata": {},
   "outputs": [],
   "source": [
    "dic_list={\"name\": \"Charlie\", \"age\": 35, \"city\": \"Chicago\"}\n",
    "dic_key = {\"school\":\"futa\"}\n",
    "dic_add = dic_list.copy()\n",
    "dic_add.update(dic_key)"
   ]
  },
  {
   "cell_type": "code",
   "execution_count": null,
   "id": "c17f8e3f",
   "metadata": {},
   "outputs": [],
   "source": []
  },
  {
   "cell_type": "code",
   "execution_count": null,
   "id": "64aaa970",
   "metadata": {},
   "outputs": [],
   "source": []
  },
  {
   "cell_type": "code",
   "execution_count": null,
   "id": "ac78f983",
   "metadata": {},
   "outputs": [],
   "source": []
  }
 ],
 "metadata": {
  "kernelspec": {
   "display_name": "Python 3 (ipykernel)",
   "language": "python",
   "name": "python3"
  },
  "language_info": {
   "codemirror_mode": {
    "name": "ipython",
    "version": 3
   },
   "file_extension": ".py",
   "mimetype": "text/x-python",
   "name": "python",
   "nbconvert_exporter": "python",
   "pygments_lexer": "ipython3",
   "version": "3.9.12"
  }
 },
 "nbformat": 4,
 "nbformat_minor": 5
}
